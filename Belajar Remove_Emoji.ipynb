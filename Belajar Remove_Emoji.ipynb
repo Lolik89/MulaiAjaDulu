{
 "cells": [
  {
   "cell_type": "code",
   "execution_count": 6,
   "id": "009d6ab4",
   "metadata": {},
   "outputs": [
    {
     "name": "stdout",
     "output_type": "stream",
     "text": [
      "b'Hello! \\xf0\\x9f\\x93\\xa2 End Climate Silence is looking for volunteers! \\n\\n1-2 hours per week. \\xf0\\x9f\\x95\\x91\\n\\nExperience doing digital research\\xe2\\x80\\xa6'\n",
      "Hello! 📢 End Climate Silence is looking for volunteers! \n",
      "\n",
      "1-2 hours per week. 🕑\n",
      "\n",
      "Experience doing digital research…\n"
     ]
    }
   ],
   "source": [
    "text=b'Hello! \\xf0\\x9f\\x93\\xa2 End Climate Silence is looking for volunteers! \\n\\n1-2 hours per week. \\xf0\\x9f\\x95\\x91\\n\\nExperience doing digital research\\xe2\\x80\\xa6'\n",
    "# text.decode(\"utf8\")\n",
    "print(text)\n",
    "\n",
    "text_decode = text.decode(\"utf8\")\n",
    "print(text_decode)"
   ]
  },
  {
   "cell_type": "code",
   "execution_count": 8,
   "id": "9202e8b9",
   "metadata": {},
   "outputs": [
    {
     "name": "stdout",
     "output_type": "stream",
     "text": [
      "Requirement already satisfied: demoji in /Users/rhmtfaizal97/opt/anaconda3/lib/python3.9/site-packages (1.1.0)\n",
      "\u001b[33mWARNING: There was an error checking the latest version of pip.\u001b[0m\u001b[33m\n",
      "\u001b[0mNote: you may need to restart the kernel to use updated packages.\n"
     ]
    }
   ],
   "source": [
    "pip install demoji"
   ]
  },
  {
   "cell_type": "code",
   "execution_count": 9,
   "id": "f13bd11a",
   "metadata": {},
   "outputs": [
    {
     "name": "stdout",
     "output_type": "stream",
     "text": [
      "Hello!  End Climate Silence is looking for volunteers! \n",
      "\n",
      "1-2 hours per week. \n",
      "\n",
      "Experience doing digital research…\n"
     ]
    }
   ],
   "source": [
    "import demoji\n",
    "\n",
    "def remove_em(text):\n",
    "    dem = demoji.findall(text)\n",
    "    for item in dem.keys():\n",
    "        text = text.replace(item, '')\n",
    "    return text\n",
    "\n",
    "print(remove_em(text))"
   ]
  }
 ],
 "metadata": {
  "kernelspec": {
   "display_name": "Python 3 (ipykernel)",
   "language": "python",
   "name": "python3"
  },
  "language_info": {
   "codemirror_mode": {
    "name": "ipython",
    "version": 3
   },
   "file_extension": ".py",
   "mimetype": "text/x-python",
   "name": "python",
   "nbconvert_exporter": "python",
   "pygments_lexer": "ipython3",
   "version": "3.11.5"
  }
 },
 "nbformat": 4,
 "nbformat_minor": 5
}
