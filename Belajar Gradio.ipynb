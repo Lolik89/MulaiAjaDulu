{
 "cells": [
  {
   "cell_type": "code",
   "execution_count": 1,
   "id": "923f0124-da67-4c4a-bffb-cb0c5a4bf71f",
   "metadata": {},
   "outputs": [
    {
     "name": "stdout",
     "output_type": "stream",
     "text": [
      "Requirement already satisfied: gradio in c:\\users\\syari\\appdata\\local\\programs\\python\\python311\\lib\\site-packages (3.40.1)\n",
      "Requirement already satisfied: aiofiles<24.0,>=22.0 in c:\\users\\syari\\appdata\\local\\programs\\python\\python311\\lib\\site-packages (from gradio) (23.2.1)\n",
      "Requirement already satisfied: aiohttp~=3.0 in c:\\users\\syari\\appdata\\local\\programs\\python\\python311\\lib\\site-packages (from gradio) (3.8.5)\n",
      "Requirement already satisfied: altair<6.0,>=4.2.0 in c:\\users\\syari\\appdata\\local\\programs\\python\\python311\\lib\\site-packages (from gradio) (5.0.1)\n",
      "Requirement already satisfied: fastapi in c:\\users\\syari\\appdata\\local\\programs\\python\\python311\\lib\\site-packages (from gradio) (0.101.1)\n",
      "Requirement already satisfied: ffmpy in c:\\users\\syari\\appdata\\local\\programs\\python\\python311\\lib\\site-packages (from gradio) (0.3.1)\n",
      "Requirement already satisfied: gradio-client>=0.4.0 in c:\\users\\syari\\appdata\\local\\programs\\python\\python311\\lib\\site-packages (from gradio) (0.4.0)\n",
      "Requirement already satisfied: httpx in c:\\users\\syari\\appdata\\local\\programs\\python\\python311\\lib\\site-packages (from gradio) (0.24.1)\n",
      "Requirement already satisfied: huggingface-hub>=0.14.0 in c:\\users\\syari\\appdata\\local\\programs\\python\\python311\\lib\\site-packages (from gradio) (0.16.4)\n",
      "Requirement already satisfied: importlib-resources<7.0,>=1.3 in c:\\users\\syari\\appdata\\local\\programs\\python\\python311\\lib\\site-packages (from gradio) (6.0.1)\n",
      "Requirement already satisfied: jinja2<4.0 in c:\\users\\syari\\appdata\\local\\programs\\python\\python311\\lib\\site-packages (from gradio) (3.1.2)\n",
      "Requirement already satisfied: markdown-it-py>=2.0.0 in c:\\users\\syari\\appdata\\local\\programs\\python\\python311\\lib\\site-packages (from markdown-it-py[linkify]>=2.0.0->gradio) (2.2.0)\n",
      "Requirement already satisfied: markupsafe~=2.0 in c:\\users\\syari\\appdata\\local\\programs\\python\\python311\\lib\\site-packages (from gradio) (2.1.3)\n",
      "Requirement already satisfied: matplotlib~=3.0 in c:\\users\\syari\\appdata\\local\\programs\\python\\python311\\lib\\site-packages (from gradio) (3.7.2)\n",
      "Requirement already satisfied: mdit-py-plugins<=0.3.3 in c:\\users\\syari\\appdata\\local\\programs\\python\\python311\\lib\\site-packages (from gradio) (0.3.3)\n",
      "Requirement already satisfied: numpy~=1.0 in c:\\users\\syari\\appdata\\local\\programs\\python\\python311\\lib\\site-packages (from gradio) (1.25.2)\n",
      "Requirement already satisfied: orjson~=3.0 in c:\\users\\syari\\appdata\\local\\programs\\python\\python311\\lib\\site-packages (from gradio) (3.9.4)\n",
      "Requirement already satisfied: packaging in c:\\users\\syari\\appdata\\local\\programs\\python\\python311\\lib\\site-packages (from gradio) (23.1)\n",
      "Requirement already satisfied: pandas<3.0,>=1.0 in c:\\users\\syari\\appdata\\local\\programs\\python\\python311\\lib\\site-packages (from gradio) (2.0.3)\n",
      "Requirement already satisfied: pillow<11.0,>=8.0 in c:\\users\\syari\\appdata\\local\\programs\\python\\python311\\lib\\site-packages (from gradio) (10.0.0)\n",
      "Requirement already satisfied: pydantic!=1.8,!=1.8.1,!=2.0.0,!=2.0.1,<3.0.0,>=1.7.4 in c:\\users\\syari\\appdata\\local\\programs\\python\\python311\\lib\\site-packages (from gradio) (2.1.1)\n",
      "Requirement already satisfied: pydub in c:\\users\\syari\\appdata\\local\\programs\\python\\python311\\lib\\site-packages (from gradio) (0.25.1)\n",
      "Requirement already satisfied: python-multipart in c:\\users\\syari\\appdata\\local\\programs\\python\\python311\\lib\\site-packages (from gradio) (0.0.6)\n",
      "Requirement already satisfied: pyyaml<7.0,>=5.0 in c:\\users\\syari\\appdata\\local\\programs\\python\\python311\\lib\\site-packages (from gradio) (6.0.1)\n",
      "Requirement already satisfied: requests~=2.0 in c:\\users\\syari\\appdata\\local\\programs\\python\\python311\\lib\\site-packages (from gradio) (2.31.0)\n",
      "Requirement already satisfied: semantic-version~=2.0 in c:\\users\\syari\\appdata\\local\\programs\\python\\python311\\lib\\site-packages (from gradio) (2.10.0)\n",
      "Requirement already satisfied: typing-extensions~=4.0 in c:\\users\\syari\\appdata\\local\\programs\\python\\python311\\lib\\site-packages (from gradio) (4.7.1)\n",
      "Requirement already satisfied: uvicorn>=0.14.0 in c:\\users\\syari\\appdata\\local\\programs\\python\\python311\\lib\\site-packages (from gradio) (0.23.2)\n",
      "Requirement already satisfied: websockets<12.0,>=10.0 in c:\\users\\syari\\appdata\\local\\programs\\python\\python311\\lib\\site-packages (from gradio) (11.0.3)\n",
      "Requirement already satisfied: attrs>=17.3.0 in c:\\users\\syari\\appdata\\local\\programs\\python\\python311\\lib\\site-packages (from aiohttp~=3.0->gradio) (23.1.0)\n",
      "Requirement already satisfied: charset-normalizer<4.0,>=2.0 in c:\\users\\syari\\appdata\\local\\programs\\python\\python311\\lib\\site-packages (from aiohttp~=3.0->gradio) (3.2.0)\n",
      "Requirement already satisfied: multidict<7.0,>=4.5 in c:\\users\\syari\\appdata\\local\\programs\\python\\python311\\lib\\site-packages (from aiohttp~=3.0->gradio) (6.0.4)\n",
      "Requirement already satisfied: async-timeout<5.0,>=4.0.0a3 in c:\\users\\syari\\appdata\\local\\programs\\python\\python311\\lib\\site-packages (from aiohttp~=3.0->gradio) (4.0.3)\n",
      "Requirement already satisfied: yarl<2.0,>=1.0 in c:\\users\\syari\\appdata\\local\\programs\\python\\python311\\lib\\site-packages (from aiohttp~=3.0->gradio) (1.9.2)\n",
      "Requirement already satisfied: frozenlist>=1.1.1 in c:\\users\\syari\\appdata\\local\\programs\\python\\python311\\lib\\site-packages (from aiohttp~=3.0->gradio) (1.4.0)\n",
      "Requirement already satisfied: aiosignal>=1.1.2 in c:\\users\\syari\\appdata\\local\\programs\\python\\python311\\lib\\site-packages (from aiohttp~=3.0->gradio) (1.3.1)\n",
      "Requirement already satisfied: jsonschema>=3.0 in c:\\users\\syari\\appdata\\local\\programs\\python\\python311\\lib\\site-packages (from altair<6.0,>=4.2.0->gradio) (4.18.4)\n",
      "Requirement already satisfied: toolz in c:\\users\\syari\\appdata\\local\\programs\\python\\python311\\lib\\site-packages (from altair<6.0,>=4.2.0->gradio) (0.12.0)\n",
      "Requirement already satisfied: fsspec in c:\\users\\syari\\appdata\\local\\programs\\python\\python311\\lib\\site-packages (from gradio-client>=0.4.0->gradio) (2023.6.0)\n",
      "Requirement already satisfied: filelock in c:\\users\\syari\\appdata\\local\\programs\\python\\python311\\lib\\site-packages (from huggingface-hub>=0.14.0->gradio) (3.12.2)\n",
      "Requirement already satisfied: tqdm>=4.42.1 in c:\\users\\syari\\appdata\\local\\programs\\python\\python311\\lib\\site-packages (from huggingface-hub>=0.14.0->gradio) (4.66.1)\n",
      "Requirement already satisfied: mdurl~=0.1 in c:\\users\\syari\\appdata\\local\\programs\\python\\python311\\lib\\site-packages (from markdown-it-py>=2.0.0->markdown-it-py[linkify]>=2.0.0->gradio) (0.1.2)\n",
      "Requirement already satisfied: linkify-it-py<3,>=1 in c:\\users\\syari\\appdata\\local\\programs\\python\\python311\\lib\\site-packages (from markdown-it-py[linkify]>=2.0.0->gradio) (2.0.2)\n",
      "Requirement already satisfied: contourpy>=1.0.1 in c:\\users\\syari\\appdata\\local\\programs\\python\\python311\\lib\\site-packages (from matplotlib~=3.0->gradio) (1.1.0)\n",
      "Requirement already satisfied: cycler>=0.10 in c:\\users\\syari\\appdata\\local\\programs\\python\\python311\\lib\\site-packages (from matplotlib~=3.0->gradio) (0.11.0)\n",
      "Requirement already satisfied: fonttools>=4.22.0 in c:\\users\\syari\\appdata\\local\\programs\\python\\python311\\lib\\site-packages (from matplotlib~=3.0->gradio) (4.42.0)\n",
      "Requirement already satisfied: kiwisolver>=1.0.1 in c:\\users\\syari\\appdata\\local\\programs\\python\\python311\\lib\\site-packages (from matplotlib~=3.0->gradio) (1.4.4)\n",
      "Requirement already satisfied: pyparsing<3.1,>=2.3.1 in c:\\users\\syari\\appdata\\local\\programs\\python\\python311\\lib\\site-packages (from matplotlib~=3.0->gradio) (3.0.9)\n",
      "Requirement already satisfied: python-dateutil>=2.7 in c:\\users\\syari\\appdata\\local\\programs\\python\\python311\\lib\\site-packages (from matplotlib~=3.0->gradio) (2.8.2)\n",
      "Requirement already satisfied: pytz>=2020.1 in c:\\users\\syari\\appdata\\local\\programs\\python\\python311\\lib\\site-packages (from pandas<3.0,>=1.0->gradio) (2023.3)\n",
      "Requirement already satisfied: tzdata>=2022.1 in c:\\users\\syari\\appdata\\local\\programs\\python\\python311\\lib\\site-packages (from pandas<3.0,>=1.0->gradio) (2023.3)\n",
      "Requirement already satisfied: annotated-types>=0.4.0 in c:\\users\\syari\\appdata\\local\\programs\\python\\python311\\lib\\site-packages (from pydantic!=1.8,!=1.8.1,!=2.0.0,!=2.0.1,<3.0.0,>=1.7.4->gradio) (0.5.0)\n",
      "Requirement already satisfied: pydantic-core==2.4.0 in c:\\users\\syari\\appdata\\local\\programs\\python\\python311\\lib\\site-packages (from pydantic!=1.8,!=1.8.1,!=2.0.0,!=2.0.1,<3.0.0,>=1.7.4->gradio) (2.4.0)\n",
      "Requirement already satisfied: idna<4,>=2.5 in c:\\users\\syari\\appdata\\local\\programs\\python\\python311\\lib\\site-packages (from requests~=2.0->gradio) (3.4)\n",
      "Requirement already satisfied: urllib3<3,>=1.21.1 in c:\\users\\syari\\appdata\\local\\programs\\python\\python311\\lib\\site-packages (from requests~=2.0->gradio) (2.0.4)\n",
      "Requirement already satisfied: certifi>=2017.4.17 in c:\\users\\syari\\appdata\\local\\programs\\python\\python311\\lib\\site-packages (from requests~=2.0->gradio) (2023.7.22)\n",
      "Requirement already satisfied: click>=7.0 in c:\\users\\syari\\appdata\\local\\programs\\python\\python311\\lib\\site-packages (from uvicorn>=0.14.0->gradio) (8.1.6)\n",
      "Requirement already satisfied: h11>=0.8 in c:\\users\\syari\\appdata\\local\\programs\\python\\python311\\lib\\site-packages (from uvicorn>=0.14.0->gradio) (0.14.0)\n",
      "Requirement already satisfied: starlette<0.28.0,>=0.27.0 in c:\\users\\syari\\appdata\\local\\programs\\python\\python311\\lib\\site-packages (from fastapi->gradio) (0.27.0)\n",
      "Requirement already satisfied: httpcore<0.18.0,>=0.15.0 in c:\\users\\syari\\appdata\\local\\programs\\python\\python311\\lib\\site-packages (from httpx->gradio) (0.17.3)\n",
      "Requirement already satisfied: sniffio in c:\\users\\syari\\appdata\\local\\programs\\python\\python311\\lib\\site-packages (from httpx->gradio) (1.3.0)\n",
      "Requirement already satisfied: colorama in c:\\users\\syari\\appdata\\local\\programs\\python\\python311\\lib\\site-packages (from click>=7.0->uvicorn>=0.14.0->gradio) (0.4.6)\n",
      "Requirement already satisfied: anyio<5.0,>=3.0 in c:\\users\\syari\\appdata\\local\\programs\\python\\python311\\lib\\site-packages (from httpcore<0.18.0,>=0.15.0->httpx->gradio) (3.7.1)\n",
      "Requirement already satisfied: jsonschema-specifications>=2023.03.6 in c:\\users\\syari\\appdata\\local\\programs\\python\\python311\\lib\\site-packages (from jsonschema>=3.0->altair<6.0,>=4.2.0->gradio) (2023.7.1)\n",
      "Requirement already satisfied: referencing>=0.28.4 in c:\\users\\syari\\appdata\\local\\programs\\python\\python311\\lib\\site-packages (from jsonschema>=3.0->altair<6.0,>=4.2.0->gradio) (0.30.0)\n",
      "Requirement already satisfied: rpds-py>=0.7.1 in c:\\users\\syari\\appdata\\local\\programs\\python\\python311\\lib\\site-packages (from jsonschema>=3.0->altair<6.0,>=4.2.0->gradio) (0.9.2)\n",
      "Requirement already satisfied: uc-micro-py in c:\\users\\syari\\appdata\\local\\programs\\python\\python311\\lib\\site-packages (from linkify-it-py<3,>=1->markdown-it-py[linkify]>=2.0.0->gradio) (1.0.2)\n",
      "Requirement already satisfied: six>=1.5 in c:\\users\\syari\\appdata\\local\\programs\\python\\python311\\lib\\site-packages (from python-dateutil>=2.7->matplotlib~=3.0->gradio) (1.16.0)\n"
     ]
    }
   ],
   "source": [
    "!pip install gradio"
   ]
  },
  {
   "cell_type": "code",
   "execution_count": 2,
   "id": "6635d7a3-9082-4693-8b70-b738cea39c52",
   "metadata": {},
   "outputs": [],
   "source": [
    "import re\n",
    "import gradio as gr\n",
    "import pandas as pd"
   ]
  },
  {
   "cell_type": "code",
   "execution_count": 3,
   "id": "a3c672b4-8968-4085-b012-894f56be211a",
   "metadata": {},
   "outputs": [],
   "source": [
    "def data_processing(text):\n",
    "    return re.sub(r'[^a-zA-Z0-9]',' ', text)"
   ]
  },
  {
   "cell_type": "code",
   "execution_count": 4,
   "id": "6048acdd-d4d7-4886-bae6-06710c22752c",
   "metadata": {
    "scrolled": true
   },
   "outputs": [
    {
     "name": "stderr",
     "output_type": "stream",
     "text": [
      "C:\\Users\\syari\\AppData\\Local\\Temp\\ipykernel_27892\\1761637533.py:5: GradioDeprecationWarning: Usage of gradio.inputs is deprecated, and will not be supported in the future, please import your component from gradio.components\n",
      "  inputs=gr.inputs.Textbox(lines=10, label=\"Paste some text here\"),\n",
      "C:\\Users\\syari\\AppData\\Local\\Temp\\ipykernel_27892\\1761637533.py:5: GradioDeprecationWarning: `optional` parameter is deprecated, and it has no effect\n",
      "  inputs=gr.inputs.Textbox(lines=10, label=\"Paste some text here\"),\n",
      "C:\\Users\\syari\\AppData\\Local\\Temp\\ipykernel_27892\\1761637533.py:5: GradioDeprecationWarning: `numeric` parameter is deprecated, and it has no effect\n",
      "  inputs=gr.inputs.Textbox(lines=10, label=\"Paste some text here\"),\n",
      "C:\\Users\\syari\\AppData\\Local\\Temp\\ipykernel_27892\\1761637533.py:7: GradioDeprecationWarning: Usage of gradio.outputs is deprecated, and will not be supported in the future, please import your components from gradio.components\n",
      "  gr.outputs.Textbox(label=\"Result\"),\n"
     ]
    },
    {
     "name": "stdout",
     "output_type": "stream",
     "text": [
      "Running on local URL:  http://127.0.0.1:7860\n",
      "\n",
      "To create a public link, set `share=True` in `launch()`.\n"
     ]
    },
    {
     "data": {
      "text/html": [
       "<div><iframe src=\"http://127.0.0.1:7860/\" width=\"100%\" height=\"500\" allow=\"autoplay; camera; microphone; clipboard-read; clipboard-write;\" frameborder=\"0\" allowfullscreen></iframe></div>"
      ],
      "text/plain": [
       "<IPython.core.display.HTML object>"
      ]
     },
     "metadata": {},
     "output_type": "display_data"
    },
    {
     "data": {
      "text/plain": []
     },
     "execution_count": 4,
     "metadata": {},
     "output_type": "execute_result"
    }
   ],
   "source": [
    "gradio_ui = gr.Interface(\n",
    "    fn=data_processing,\n",
    "    title=\"Data Processing and Modeling\",\n",
    "    description=\"Aplikasi Web Data Processing and Modeling\",\n",
    "    inputs=gr.inputs.Textbox(lines=10, label=\"Paste some text here\"),\n",
    "    outputs=[\n",
    "        gr.outputs.Textbox(label=\"Result\"),\n",
    "    ],\n",
    ")\n",
    "gradio_ui.launch()"
   ]
  },
  {
   "cell_type": "code",
   "execution_count": 5,
   "id": "be66ba44-fbea-4ce1-ba50-bdf9593ff8b4",
   "metadata": {},
   "outputs": [],
   "source": [
    "def data_processing(file_obj):\n",
    "    #Import file csv ke Pandas\n",
    "    df = pd.read_csv(file_obj.name)\n",
    "    #Ambil teks yang akan diproses dalam format list\n",
    "    texts = df.text.to_list()\n",
    "    #Lakukan cleansing pada teks\n",
    "    cleaned_text =[]\n",
    "    for text in texts:\n",
    "        cleaned_text.append(re.sub(r'[^a-zA-Z0-9]',' ', text))\n",
    "\n",
    "    return cleaned_text"
   ]
  },
  {
   "cell_type": "code",
   "execution_count": 6,
   "id": "266ccead-4915-42d8-9d3e-6acc5de3e185",
   "metadata": {
    "scrolled": true
   },
   "outputs": [
    {
     "name": "stdout",
     "output_type": "stream",
     "text": [
      "Running on local URL:  http://127.0.0.1:7861\n",
      "\n",
      "To create a public link, set `share=True` in `launch()`.\n"
     ]
    },
    {
     "data": {
      "text/html": [
       "<div><iframe src=\"http://127.0.0.1:7861/\" width=\"100%\" height=\"500\" allow=\"autoplay; camera; microphone; clipboard-read; clipboard-write;\" frameborder=\"0\" allowfullscreen></iframe></div>"
      ],
      "text/plain": [
       "<IPython.core.display.HTML object>"
      ]
     },
     "metadata": {},
     "output_type": "display_data"
    },
    {
     "data": {
      "text/plain": []
     },
     "execution_count": 6,
     "metadata": {},
     "output_type": "execute_result"
    }
   ],
   "source": [
    "gradio_ui = gr.Interface(data_processing,\n",
    "                         title=\"Data Processing and Modeling\",\n",
    "                         description=\"Aplikasi Web Data Processing and Modeling\",\n",
    "                         inputs=\"file\",\n",
    "                         outputs=\"json\")\n",
    "gradio_ui.launch()"
   ]
  },
  {
   "cell_type": "code",
   "execution_count": null,
   "id": "2c82e8a5-41ca-4a62-b981-943b4a79bbaf",
   "metadata": {},
   "outputs": [],
   "source": []
  }
 ],
 "metadata": {
  "kernelspec": {
   "display_name": "Python 3 (ipykernel)",
   "language": "python",
   "name": "python3"
  },
  "language_info": {
   "codemirror_mode": {
    "name": "ipython",
    "version": 3
   },
   "file_extension": ".py",
   "mimetype": "text/x-python",
   "name": "python",
   "nbconvert_exporter": "python",
   "pygments_lexer": "ipython3",
   "version": "3.11.4"
  }
 },
 "nbformat": 4,
 "nbformat_minor": 5
}
